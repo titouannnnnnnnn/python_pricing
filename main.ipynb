{
 "cells": [
  {
   "cell_type": "code",
   "execution_count": 1,
   "metadata": {},
   "outputs": [],
   "source": [
    "from class_pricing.class_option import Option\n",
    "from class_pricing.class_market import Market\n",
    "from class_pricing.class_tree import Tree\n",
    "#from class_pricing.class_node import Node\n",
    "from datetime import datetime, timedelta\n",
    "from math import exp,sqrt"
   ]
  },
  {
   "cell_type": "code",
   "execution_count": 2,
   "metadata": {},
   "outputs": [
    {
     "name": "stdout",
     "output_type": "stream",
     "text": [
      "0.0027247138299868645\n",
      "1.0228601171344545\n",
      "<class 'datetime.datetime'>\n",
      "<class 'datetime.datetime'>\n",
      "<class 'datetime.timedelta'>\n",
      "363\n",
      "<class 'NoneType'>\n"
     ]
    }
   ],
   "source": [
    "def calculate_delta_t(maturity_date:datetime, pricing_date:datetime,nb_steps:int, nb_days:int) -> float:\n",
    "    return ((maturity_date - pricing_date).days/nb_steps) / nb_days\n",
    "\n",
    "def calculate_alpha(volatility:float, delta_t:float, mutliplicateur:float) -> float:\n",
    "    return exp (volatility * mutliplicateur * sqrt (delta_t))\n",
    "\n",
    "\n",
    "a=calculate_delta_t(datetime(2024, 9, 20),datetime(2023,9,23),365,365 )\n",
    "print(a)\n",
    "print(calculate_alpha(0.25,a,sqrt(3)))\n",
    "p=datetime(2024, 9, 20)\n",
    "q=datetime(2023,9,23)\n",
    "j=print(type(datetime(2024, 9, 20)))  # Vérifiez le type de maturity_date\n",
    "i=print(type(datetime(2023,9,23)))   # Vérifiez le type de pricing_date\n",
    "v=print(type(p-q))\n",
    "b= print((p-q).days)\n",
    "v=print(type(b))\n"
   ]
  },
  {
   "cell_type": "code",
   "execution_count": null,
   "metadata": {},
   "outputs": [],
   "source": []
  },
  {
   "cell_type": "code",
   "execution_count": 2,
   "metadata": {},
   "outputs": [
    {
     "ename": "TypeError",
     "evalue": "unsupported operand type(s) for *: 'function' and 'float'",
     "output_type": "error",
     "traceback": [
      "\u001b[1;31m---------------------------------------------------------------------------\u001b[0m",
      "\u001b[1;31mTypeError\u001b[0m                                 Traceback (most recent call last)",
      "\u001b[1;32mc:\\Users\\Titouan\\Desktop\\M2 EIF\\S1\\Info-quant\\Projet\\python\\python_pricing\\main.ipynb Cell 4\u001b[0m line \u001b[0;36m1\n\u001b[0;32m      <a href='vscode-notebook-cell:/c%3A/Users/Titouan/Desktop/M2%20EIF/S1/Info-quant/Projet/python/python_pricing/main.ipynb#W1sZmlsZQ%3D%3D?line=0'>1</a>\u001b[0m market \u001b[39m=\u001b[39m Market(interest_rate\u001b[39m=\u001b[39m\u001b[39m0.04\u001b[39m, \n\u001b[0;32m      <a href='vscode-notebook-cell:/c%3A/Users/Titouan/Desktop/M2%20EIF/S1/Info-quant/Projet/python/python_pricing/main.ipynb#W1sZmlsZQ%3D%3D?line=1'>2</a>\u001b[0m         volatility\u001b[39m=\u001b[39m\u001b[39m0.25\u001b[39m, \n\u001b[0;32m      <a href='vscode-notebook-cell:/c%3A/Users/Titouan/Desktop/M2%20EIF/S1/Info-quant/Projet/python/python_pricing/main.ipynb#W1sZmlsZQ%3D%3D?line=2'>3</a>\u001b[0m         spot_price\u001b[39m=\u001b[39m\u001b[39m100.0\u001b[39m, \n\u001b[0;32m      <a href='vscode-notebook-cell:/c%3A/Users/Titouan/Desktop/M2%20EIF/S1/Info-quant/Projet/python/python_pricing/main.ipynb#W1sZmlsZQ%3D%3D?line=3'>4</a>\u001b[0m         dividend_price\u001b[39m=\u001b[39m\u001b[39m0\u001b[39m, \n\u001b[0;32m      <a href='vscode-notebook-cell:/c%3A/Users/Titouan/Desktop/M2%20EIF/S1/Info-quant/Projet/python/python_pricing/main.ipynb#W1sZmlsZQ%3D%3D?line=4'>5</a>\u001b[0m         dividend_ex_date\u001b[39m=\u001b[39mdatetime(\u001b[39m2024\u001b[39m, \u001b[39m5\u001b[39m, \u001b[39m24\u001b[39m)\n\u001b[0;32m      <a href='vscode-notebook-cell:/c%3A/Users/Titouan/Desktop/M2%20EIF/S1/Info-quant/Projet/python/python_pricing/main.ipynb#W1sZmlsZQ%3D%3D?line=5'>6</a>\u001b[0m )\n\u001b[0;32m      <a href='vscode-notebook-cell:/c%3A/Users/Titouan/Desktop/M2%20EIF/S1/Info-quant/Projet/python/python_pricing/main.ipynb#W1sZmlsZQ%3D%3D?line=7'>8</a>\u001b[0m option \u001b[39m=\u001b[39m Option(option_type\u001b[39m=\u001b[39m\u001b[39m\"\u001b[39m\u001b[39mcall\u001b[39m\u001b[39m\"\u001b[39m, \n\u001b[0;32m      <a href='vscode-notebook-cell:/c%3A/Users/Titouan/Desktop/M2%20EIF/S1/Info-quant/Projet/python/python_pricing/main.ipynb#W1sZmlsZQ%3D%3D?line=8'>9</a>\u001b[0m         exercise_type\u001b[39m=\u001b[39m\u001b[39m\"\u001b[39m\u001b[39meu\u001b[39m\u001b[39m\"\u001b[39m,\n\u001b[0;32m     <a href='vscode-notebook-cell:/c%3A/Users/Titouan/Desktop/M2%20EIF/S1/Info-quant/Projet/python/python_pricing/main.ipynb#W1sZmlsZQ%3D%3D?line=9'>10</a>\u001b[0m         strike_price\u001b[39m=\u001b[39m\u001b[39m102.0\u001b[39m, \n\u001b[0;32m     <a href='vscode-notebook-cell:/c%3A/Users/Titouan/Desktop/M2%20EIF/S1/Info-quant/Projet/python/python_pricing/main.ipynb#W1sZmlsZQ%3D%3D?line=10'>11</a>\u001b[0m         maturity_date\u001b[39m=\u001b[39mdatetime(\u001b[39m2024\u001b[39m, \u001b[39m9\u001b[39m, \u001b[39m20\u001b[39m)\n\u001b[0;32m     <a href='vscode-notebook-cell:/c%3A/Users/Titouan/Desktop/M2%20EIF/S1/Info-quant/Projet/python/python_pricing/main.ipynb#W1sZmlsZQ%3D%3D?line=11'>12</a>\u001b[0m )\n\u001b[1;32m---> <a href='vscode-notebook-cell:/c%3A/Users/Titouan/Desktop/M2%20EIF/S1/Info-quant/Projet/python/python_pricing/main.ipynb#W1sZmlsZQ%3D%3D?line=14'>15</a>\u001b[0m tree\u001b[39m=\u001b[39m Tree(market,\n\u001b[0;32m     <a href='vscode-notebook-cell:/c%3A/Users/Titouan/Desktop/M2%20EIF/S1/Info-quant/Projet/python/python_pricing/main.ipynb#W1sZmlsZQ%3D%3D?line=15'>16</a>\u001b[0m         option,\n\u001b[0;32m     <a href='vscode-notebook-cell:/c%3A/Users/Titouan/Desktop/M2%20EIF/S1/Info-quant/Projet/python/python_pricing/main.ipynb#W1sZmlsZQ%3D%3D?line=16'>17</a>\u001b[0m         pricing_date\u001b[39m=\u001b[39;49mdatetime(\u001b[39m2023\u001b[39;49m,\u001b[39m9\u001b[39;49m,\u001b[39m23\u001b[39;49m),\n\u001b[0;32m     <a href='vscode-notebook-cell:/c%3A/Users/Titouan/Desktop/M2%20EIF/S1/Info-quant/Projet/python/python_pricing/main.ipynb#W1sZmlsZQ%3D%3D?line=17'>18</a>\u001b[0m         nb_steps\u001b[39m=\u001b[39;49m\u001b[39m365\u001b[39;49m\n\u001b[0;32m     <a href='vscode-notebook-cell:/c%3A/Users/Titouan/Desktop/M2%20EIF/S1/Info-quant/Projet/python/python_pricing/main.ipynb#W1sZmlsZQ%3D%3D?line=18'>19</a>\u001b[0m )\n",
      "File \u001b[1;32mc:\\Users\\Titouan\\Desktop\\M2 EIF\\S1\\Info-quant\\Projet\\python\\python_pricing\\class_pricing\\class_tree.py:47\u001b[0m, in \u001b[0;36mTree.__init__\u001b[1;34m(self, market, option, pricing_date, nb_steps)\u001b[0m\n\u001b[0;32m     44\u001b[0m \u001b[39mself\u001b[39m\u001b[39m.\u001b[39mroot\u001b[39m=\u001b[39mNode(\u001b[39mself\u001b[39m\u001b[39m.\u001b[39mmarket,\u001b[39mself\u001b[39m,\u001b[39mself\u001b[39m\u001b[39m.\u001b[39mmarket\u001b[39m.\u001b[39mspot_price)\n\u001b[0;32m     45\u001b[0m \u001b[39m#point de depart = root\u001b[39;00m\n\u001b[1;32m---> 47\u001b[0m \u001b[39mself\u001b[39;49m\u001b[39m.\u001b[39;49mbuild_tree()\n",
      "File \u001b[1;32mc:\\Users\\Titouan\\Desktop\\M2 EIF\\S1\\Info-quant\\Projet\\python\\python_pricing\\class_pricing\\class_tree.py:71\u001b[0m, in \u001b[0;36mTree.build_tree\u001b[1;34m(self)\u001b[0m\n\u001b[0;32m     69\u001b[0m n\u001b[39m=\u001b[39m\u001b[39mself\u001b[39m\u001b[39m.\u001b[39mroot \u001b[39m#current node\u001b[39;00m\n\u001b[0;32m     70\u001b[0m \u001b[39mfor\u001b[39;00m i \u001b[39min\u001b[39;00m \u001b[39mrange\u001b[39m(\u001b[39mself\u001b[39m\u001b[39m.\u001b[39mnb_steps): \u001b[39m#construit avec la boucle for le nb de noeud et donc le nb de root de 0 a T\u001b[39;00m\n\u001b[1;32m---> 71\u001b[0m     n\u001b[39m=\u001b[39m\u001b[39mself\u001b[39;49m\u001b[39m.\u001b[39;49mbuild_node_column(n)\n",
      "File \u001b[1;32mc:\\Users\\Titouan\\Desktop\\M2 EIF\\S1\\Info-quant\\Projet\\python\\python_pricing\\class_pricing\\class_tree.py:77\u001b[0m, in \u001b[0;36mTree.build_node_column\u001b[1;34m(self, n)\u001b[0m\n\u001b[0;32m     74\u001b[0m \u001b[39mdef\u001b[39;00m \u001b[39mbuild_node_column\u001b[39m(\u001b[39mself\u001b[39m,n : Node)\u001b[39m-\u001b[39m\u001b[39m>\u001b[39m Node:\n\u001b[0;32m     75\u001b[0m     next_node\u001b[39m=\u001b[39m Node(\u001b[39mself\u001b[39m\u001b[39m.\u001b[39mmarket, \u001b[39mself\u001b[39m,n\u001b[39m.\u001b[39mforward_price)\n\u001b[1;32m---> 77\u001b[0m     n\u001b[39m.\u001b[39;49mbuild_block(next_node)\n\u001b[0;32m     78\u001b[0m     n1 \u001b[39m=\u001b[39m n\n\u001b[0;32m     79\u001b[0m     \u001b[39mwhile\u001b[39;00m n1\u001b[39m.\u001b[39mdown_node \u001b[39mis\u001b[39;00m \u001b[39mnot\u001b[39;00m \u001b[39mNone\u001b[39;00m: \u001b[39m#tant que le noeud down != 0 donc jusq'a qu'il y ait un noeud a executer\u001b[39;00m\n",
      "File \u001b[1;32mc:\\Users\\Titouan\\Desktop\\M2 EIF\\S1\\Info-quant\\Projet\\python\\python_pricing\\class_pricing\\class_node.py:121\u001b[0m, in \u001b[0;36mNode.build_block\u001b[1;34m(self, next)\u001b[0m\n\u001b[0;32m    120\u001b[0m \u001b[39mdef\u001b[39;00m \u001b[39mbuild_block\u001b[39m(\u001b[39mself\u001b[39m, \u001b[39mnext\u001b[39m:Node):\n\u001b[1;32m--> 121\u001b[0m     nmid\u001b[39m=\u001b[39m\u001b[39mself\u001b[39;49m\u001b[39m.\u001b[39;49mget_mid(\u001b[39mnext\u001b[39;49m)\n\u001b[0;32m    124\u001b[0m     \u001b[39mif\u001b[39;00m nmid\u001b[39m.\u001b[39mdown_node \u001b[39mis\u001b[39;00m \u001b[39mNone\u001b[39;00m:\n\u001b[0;32m    125\u001b[0m         ndown\u001b[39m=\u001b[39mNode(\u001b[39mself\u001b[39m\u001b[39m.\u001b[39mmarket,\u001b[39mself\u001b[39m,nmid\u001b[39m.\u001b[39mspot_price\u001b[39m/\u001b[39m\u001b[39mself\u001b[39m\u001b[39m.\u001b[39mtree\u001b[39m.\u001b[39malpha)\n",
      "File \u001b[1;32mc:\\Users\\Titouan\\Desktop\\M2 EIF\\S1\\Info-quant\\Projet\\python\\python_pricing\\class_pricing\\class_node.py:149\u001b[0m, in \u001b[0;36mNode.get_mid\u001b[1;34m(self, next)\u001b[0m\n\u001b[0;32m    147\u001b[0m forward\u001b[39m=\u001b[39m\u001b[39mself\u001b[39m\u001b[39m.\u001b[39mforward_price\n\u001b[0;32m    148\u001b[0m \u001b[39m#forward= calculate_forward_price(self.spot_price, self.market.interest_rate, self.tree.delta_t)\u001b[39;00m\n\u001b[1;32m--> 149\u001b[0m \u001b[39mif\u001b[39;00m \u001b[39mnext\u001b[39;49m\u001b[39m.\u001b[39;49mis_close(forward): \u001b[39m#regarder si None ou pas, avec debeuguuer\u001b[39;00m\n\u001b[0;32m    150\u001b[0m     \u001b[39mreturn\u001b[39;00m \u001b[39mnext\u001b[39m\n\u001b[0;32m    151\u001b[0m \u001b[39melif\u001b[39;00m forward \u001b[39m>\u001b[39m \u001b[39mself\u001b[39m\u001b[39m.\u001b[39mspot_price:\n",
      "File \u001b[1;32mc:\\Users\\Titouan\\Desktop\\M2 EIF\\S1\\Info-quant\\Projet\\python\\python_pricing\\class_pricing\\class_node.py:143\u001b[0m, in \u001b[0;36mNode.is_close\u001b[1;34m(self, forward)\u001b[0m\n\u001b[0;32m    141\u001b[0m \u001b[39mdef\u001b[39;00m \u001b[39mis_close\u001b[39m(\u001b[39mself\u001b[39m,forward:\u001b[39mfloat\u001b[39m) \u001b[39m-\u001b[39m\u001b[39m>\u001b[39m \u001b[39mbool\u001b[39m: \u001b[39m#good\u001b[39;00m\n\u001b[0;32m    142\u001b[0m     \u001b[39m#alpha : float=self.tree.alpha\u001b[39;00m\n\u001b[1;32m--> 143\u001b[0m     \u001b[39mreturn\u001b[39;00m \u001b[39mself\u001b[39;49m\u001b[39m.\u001b[39;49mspot_price \u001b[39m*\u001b[39;49m (\u001b[39m1\u001b[39;49m\u001b[39m+\u001b[39;49m\u001b[39m1\u001b[39;49m\u001b[39m/\u001b[39;49m\u001b[39mself\u001b[39;49m\u001b[39m.\u001b[39;49mtree\u001b[39m.\u001b[39;49malpha)\u001b[39m/\u001b[39m\u001b[39m2\u001b[39m \u001b[39m<\u001b[39m\u001b[39m=\u001b[39m forward \u001b[39m<\u001b[39m\u001b[39m=\u001b[39m \u001b[39mself\u001b[39m\u001b[39m.\u001b[39mspot_price \u001b[39m*\u001b[39m (\u001b[39m1\u001b[39m\u001b[39m+\u001b[39m\u001b[39mself\u001b[39m\u001b[39m.\u001b[39mtree\u001b[39m.\u001b[39malpha)\u001b[39m/\u001b[39m\u001b[39m2\u001b[39m\n",
      "\u001b[1;31mTypeError\u001b[0m: unsupported operand type(s) for *: 'function' and 'float'"
     ]
    }
   ],
   "source": [
    "market = Market(interest_rate=0.04, \n",
    "        volatility=0.25, \n",
    "        spot_price=100.0, \n",
    "        dividend_price=0, \n",
    "        dividend_ex_date=datetime(2024, 5, 24)\n",
    ")\n",
    "\n",
    "option = Option(option_type=\"call\", \n",
    "        exercise_type=\"eu\",\n",
    "        strike_price=102.0, \n",
    "        maturity_date=datetime(2024, 9, 20)\n",
    ")\n",
    "\n",
    "\n",
    "tree= Tree(market,\n",
    "        option,\n",
    "        pricing_date=datetime(2023,9,23),\n",
    "        nb_steps=365\n",
    ")\n",
    "\n",
    "\n"
   ]
  },
  {
   "cell_type": "code",
   "execution_count": null,
   "metadata": {},
   "outputs": [],
   "source": [
    "price = tree.price(option)"
   ]
  },
  {
   "cell_type": "code",
   "execution_count": null,
   "metadata": {},
   "outputs": [],
   "source": [
    "tree.print_tree()"
   ]
  },
  {
   "cell_type": "code",
   "execution_count": null,
   "metadata": {},
   "outputs": [],
   "source": [
    "print(tree.root.option_value)"
   ]
  },
  {
   "cell_type": "code",
   "execution_count": null,
   "metadata": {},
   "outputs": [],
   "source": [
    "price"
   ]
  },
  {
   "cell_type": "code",
   "execution_count": null,
   "metadata": {},
   "outputs": [],
   "source": [
    "tree.root"
   ]
  },
  {
   "cell_type": "code",
   "execution_count": null,
   "metadata": {},
   "outputs": [],
   "source": [
    "tree.root.next_mid_node"
   ]
  },
  {
   "cell_type": "code",
   "execution_count": null,
   "metadata": {},
   "outputs": [],
   "source": [
    "tree.root.nb_nodes"
   ]
  },
  {
   "cell_type": "code",
   "execution_count": null,
   "metadata": {},
   "outputs": [],
   "source": [
    "# Accès aux attributs de la classe Market\n",
    "print(market.interest_rate)\n",
    "print(market.volatility)\n",
    "print(market.spot_price)\n",
    "print(market.dividend_price)\n",
    "print(market.dividend_ex_date)\n",
    "\n",
    "# Accès aux attributs de la classe Option\n",
    "print(option.option_type)       \n",
    "print(option.exercise_type)    \n",
    "print(option.strike_price)      \n",
    "print(option.maturity_date)     "
   ]
  }
 ],
 "metadata": {
  "kernelspec": {
   "display_name": "Python 3",
   "language": "python",
   "name": "python3"
  },
  "language_info": {
   "codemirror_mode": {
    "name": "ipython",
    "version": 3
   },
   "file_extension": ".py",
   "mimetype": "text/x-python",
   "name": "python",
   "nbconvert_exporter": "python",
   "pygments_lexer": "ipython3",
   "version": "3.9.13"
  },
  "orig_nbformat": 4
 },
 "nbformat": 4,
 "nbformat_minor": 2
}
