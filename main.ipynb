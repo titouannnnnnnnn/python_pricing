{
 "cells": [
  {
   "cell_type": "code",
   "execution_count": 34,
   "metadata": {},
   "outputs": [],
   "source": [
    "from class_pricing.class_option import Option\n",
    "from class_pricing.class_market import Market\n",
    "\n",
    "from datetime import datetime"
   ]
  },
  {
   "cell_type": "code",
   "execution_count": 35,
   "metadata": {},
   "outputs": [],
   "source": [
    "market = Market(interest_rate=0.04, \n",
    "        volatility=0.25, \n",
    "        spot_price=100.0, \n",
    "        dividend_price=0, \n",
    "        dividend_ex_date=datetime(2024, 5, 24)\n",
    ")\n",
    "\n",
    "option = Option(option_type=\"call\", \n",
    "        exercise_type=\"eu\",\n",
    "        strike_price=102.0, \n",
    "        maturity_date=datetime(2024, 9, 20)\n",
    ")\n",
    "\n",
    "\n"
   ]
  },
  {
   "cell_type": "code",
   "execution_count": 33,
   "metadata": {},
   "outputs": [
    {
     "name": "stdout",
     "output_type": "stream",
     "text": [
      "0.04\n",
      "0.25\n",
      "100.0\n",
      "0\n",
      "2024-05-24 00:00:00\n",
      "call\n",
      "eu\n",
      "102.0\n",
      "2024-09-20 00:00:00\n"
     ]
    }
   ],
   "source": [
    "# Accès aux attributs de la classe Market\n",
    "print(market.interest_rate)\n",
    "print(market.volatility)\n",
    "print(market.spot_price)\n",
    "print(market.dividend_price)\n",
    "print(market.dividend_ex_date)\n",
    "\n",
    "# Accès aux attributs de la classe Option\n",
    "print(option.option_type)       \n",
    "print(option.exercise_type)    \n",
    "print(option.strike_price)      \n",
    "print(option.maturity_date)     "
   ]
  }
 ],
 "metadata": {
  "kernelspec": {
   "display_name": "Python 3",
   "language": "python",
   "name": "python3"
  },
  "language_info": {
   "codemirror_mode": {
    "name": "ipython",
    "version": 3
   },
   "file_extension": ".py",
   "mimetype": "text/x-python",
   "name": "python",
   "nbconvert_exporter": "python",
   "pygments_lexer": "ipython3",
   "version": "3.9.13"
  },
  "orig_nbformat": 4
 },
 "nbformat": 4,
 "nbformat_minor": 2
}
