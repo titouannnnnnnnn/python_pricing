{
 "cells": [
  {
   "cell_type": "code",
   "execution_count": 34,
   "metadata": {},
   "outputs": [],
   "source": [
    "from class_pricing.class_option import Option\n",
    "from class_pricing.class_market import Market\n",
    "from class_pricing.class_tree import Tree\n",
    "from class_pricing.class_node import Node\n",
    "from datetime import datetime"
   ]
  },
  {
   "cell_type": "code",
   "execution_count": 37,
   "metadata": {},
   "outputs": [
    {
     "ename": "NameError",
     "evalue": "name 'Tree' is not defined",
     "output_type": "error",
     "traceback": [
      "\u001b[1;31m---------------------------------------------------------------------------\u001b[0m",
      "\u001b[1;31mNameError\u001b[0m                                 Traceback (most recent call last)",
      "\u001b[1;32mc:\\Users\\Titouan\\Desktop\\M2 EIF\\S1\\Info-quant\\Projet\\python\\python_pricing\\main.ipynb Cell 2\u001b[0m line \u001b[0;36m1\n\u001b[0;32m      <a href='vscode-notebook-cell:/c%3A/Users/Titouan/Desktop/M2%20EIF/S1/Info-quant/Projet/python/python_pricing/main.ipynb#W2sZmlsZQ%3D%3D?line=0'>1</a>\u001b[0m market \u001b[39m=\u001b[39m Market(interest_rate\u001b[39m=\u001b[39m\u001b[39m0.04\u001b[39m, \n\u001b[0;32m      <a href='vscode-notebook-cell:/c%3A/Users/Titouan/Desktop/M2%20EIF/S1/Info-quant/Projet/python/python_pricing/main.ipynb#W2sZmlsZQ%3D%3D?line=1'>2</a>\u001b[0m         volatility\u001b[39m=\u001b[39m\u001b[39m0.25\u001b[39m, \n\u001b[0;32m      <a href='vscode-notebook-cell:/c%3A/Users/Titouan/Desktop/M2%20EIF/S1/Info-quant/Projet/python/python_pricing/main.ipynb#W2sZmlsZQ%3D%3D?line=2'>3</a>\u001b[0m         spot_price\u001b[39m=\u001b[39m\u001b[39m100.0\u001b[39m, \n\u001b[0;32m      <a href='vscode-notebook-cell:/c%3A/Users/Titouan/Desktop/M2%20EIF/S1/Info-quant/Projet/python/python_pricing/main.ipynb#W2sZmlsZQ%3D%3D?line=3'>4</a>\u001b[0m         dividend_price\u001b[39m=\u001b[39m\u001b[39m0\u001b[39m, \n\u001b[0;32m      <a href='vscode-notebook-cell:/c%3A/Users/Titouan/Desktop/M2%20EIF/S1/Info-quant/Projet/python/python_pricing/main.ipynb#W2sZmlsZQ%3D%3D?line=4'>5</a>\u001b[0m         dividend_ex_date\u001b[39m=\u001b[39mdatetime(\u001b[39m2024\u001b[39m, \u001b[39m5\u001b[39m, \u001b[39m24\u001b[39m)\n\u001b[0;32m      <a href='vscode-notebook-cell:/c%3A/Users/Titouan/Desktop/M2%20EIF/S1/Info-quant/Projet/python/python_pricing/main.ipynb#W2sZmlsZQ%3D%3D?line=5'>6</a>\u001b[0m )\n\u001b[0;32m      <a href='vscode-notebook-cell:/c%3A/Users/Titouan/Desktop/M2%20EIF/S1/Info-quant/Projet/python/python_pricing/main.ipynb#W2sZmlsZQ%3D%3D?line=7'>8</a>\u001b[0m option \u001b[39m=\u001b[39m Option(option_type\u001b[39m=\u001b[39m\u001b[39m\"\u001b[39m\u001b[39mcall\u001b[39m\u001b[39m\"\u001b[39m, \n\u001b[0;32m      <a href='vscode-notebook-cell:/c%3A/Users/Titouan/Desktop/M2%20EIF/S1/Info-quant/Projet/python/python_pricing/main.ipynb#W2sZmlsZQ%3D%3D?line=8'>9</a>\u001b[0m         exercise_type\u001b[39m=\u001b[39m\u001b[39m\"\u001b[39m\u001b[39meu\u001b[39m\u001b[39m\"\u001b[39m,\n\u001b[0;32m     <a href='vscode-notebook-cell:/c%3A/Users/Titouan/Desktop/M2%20EIF/S1/Info-quant/Projet/python/python_pricing/main.ipynb#W2sZmlsZQ%3D%3D?line=9'>10</a>\u001b[0m         strike_price\u001b[39m=\u001b[39m\u001b[39m102.0\u001b[39m, \n\u001b[0;32m     <a href='vscode-notebook-cell:/c%3A/Users/Titouan/Desktop/M2%20EIF/S1/Info-quant/Projet/python/python_pricing/main.ipynb#W2sZmlsZQ%3D%3D?line=10'>11</a>\u001b[0m         maturity_date\u001b[39m=\u001b[39mdatetime(\u001b[39m2024\u001b[39m, \u001b[39m9\u001b[39m, \u001b[39m20\u001b[39m)\n\u001b[0;32m     <a href='vscode-notebook-cell:/c%3A/Users/Titouan/Desktop/M2%20EIF/S1/Info-quant/Projet/python/python_pricing/main.ipynb#W2sZmlsZQ%3D%3D?line=11'>12</a>\u001b[0m )\n\u001b[1;32m---> <a href='vscode-notebook-cell:/c%3A/Users/Titouan/Desktop/M2%20EIF/S1/Info-quant/Projet/python/python_pricing/main.ipynb#W2sZmlsZQ%3D%3D?line=14'>15</a>\u001b[0m tree\u001b[39m=\u001b[39m Tree(market_t\u001b[39m=\u001b[39mmarket, pricing_date\u001b[39m=\u001b[39mdatetime(\u001b[39m2023\u001b[39m,\u001b[39m9\u001b[39m,\u001b[39m23\u001b[39m), n_steps\u001b[39m=\u001b[39m\u001b[39m365\u001b[39m)\n",
      "\u001b[1;31mNameError\u001b[0m: name 'Tree' is not defined"
     ]
    }
   ],
   "source": [
    "market = Market(interest_rate=0.04, \n",
    "        volatility=0.25, \n",
    "        spot_price=100.0, \n",
    "        dividend_price=0, \n",
    "        dividend_ex_date=datetime(2024, 5, 24)\n",
    ")\n",
    "\n",
    "option = Option(option_type=\"call\", \n",
    "        exercise_type=\"eu\",\n",
    "        strike_price=102.0, \n",
    "        maturity_date=datetime(2024, 9, 20)\n",
    ")\n",
    "\n",
    "\n",
    "tree= Tree(market_t=market, pricing_date=datetime(2023,9,23), n_steps=365)\n",
    "\n",
    "price = tree.price(option=option)"
   ]
  },
  {
   "cell_type": "code",
   "execution_count": null,
   "metadata": {},
   "outputs": [],
   "source": [
    "price"
   ]
  },
  {
   "cell_type": "code",
   "execution_count": null,
   "metadata": {},
   "outputs": [],
   "source": [
    "tree.root"
   ]
  },
  {
   "cell_type": "code",
   "execution_count": null,
   "metadata": {},
   "outputs": [],
   "source": [
    "tree.root.next_mid_node"
   ]
  },
  {
   "cell_type": "code",
   "execution_count": null,
   "metadata": {},
   "outputs": [],
   "source": [
    "tree.root.nb_nodes"
   ]
  },
  {
   "cell_type": "code",
   "execution_count": 33,
   "metadata": {},
   "outputs": [
    {
     "name": "stdout",
     "output_type": "stream",
     "text": [
      "0.04\n",
      "0.25\n",
      "100.0\n",
      "0\n",
      "2024-05-24 00:00:00\n",
      "call\n",
      "eu\n",
      "102.0\n",
      "2024-09-20 00:00:00\n"
     ]
    }
   ],
   "source": [
    "# Accès aux attributs de la classe Market\n",
    "print(market.interest_rate)\n",
    "print(market.volatility)\n",
    "print(market.spot_price)\n",
    "print(market.dividend_price)\n",
    "print(market.dividend_ex_date)\n",
    "\n",
    "# Accès aux attributs de la classe Option\n",
    "print(option.option_type)       \n",
    "print(option.exercise_type)    \n",
    "print(option.strike_price)      \n",
    "print(option.maturity_date)     "
   ]
  }
 ],
 "metadata": {
  "kernelspec": {
   "display_name": "Python 3",
   "language": "python",
   "name": "python3"
  },
  "language_info": {
   "codemirror_mode": {
    "name": "ipython",
    "version": 3
   },
   "file_extension": ".py",
   "mimetype": "text/x-python",
   "name": "python",
   "nbconvert_exporter": "python",
   "pygments_lexer": "ipython3",
   "version": "3.9.13"
  },
  "orig_nbformat": 4
 },
 "nbformat": 4,
 "nbformat_minor": 2
}
